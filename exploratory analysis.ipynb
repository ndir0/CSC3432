{
 "cells": [
  {
   "cell_type": "code",
   "execution_count": 1,
   "id": "d4836137",
   "metadata": {},
   "outputs": [],
   "source": [
    "import pandas\n",
    "import seaborn\n",
    "import matplotlib.pyplot as plt\n",
    "\n",
    "seaborn.set_style(\"whitegrid\")\n",
    "seaborn.set_context(\"paper\")\n",
    "seaborn.set_palette(\"deep\", color_codes = True)"
   ]
  },
  {
   "cell_type": "code",
   "execution_count": 2,
   "id": "cf3a19ad",
   "metadata": {},
   "outputs": [],
   "source": [
    "visit1 = pandas.read_csv(\"../data/visit-1.csv\")\n",
    "visit2 = pandas.read_csv(\"../data/visit-2.csv\")\n",
    "visit3 = pandas.read_csv(\"../data/visit-3.csv\")\n",
    "visit4 = pandas.read_csv(\"../data/visit-4.csv\")\n",
    "visit5 = pandas.read_csv(\"../data/visit-5.csv\")"
   ]
  },
  {
   "cell_type": "code",
   "execution_count": 3,
   "id": "7187e900",
   "metadata": {},
   "outputs": [],
   "source": [
    "visit1 = pandas.concat([visit1, visit2, visit3, visit4, visit5])"
   ]
  },
  {
   "cell_type": "code",
   "execution_count": 4,
   "id": "455daafc",
   "metadata": {},
   "outputs": [],
   "source": [
    "data = visit1"
   ]
  },
  {
   "cell_type": "code",
   "execution_count": 5,
   "id": "ff8be525",
   "metadata": {},
   "outputs": [
    {
     "data": {
      "text/html": [
       "<div>\n",
       "<style scoped>\n",
       "    .dataframe tbody tr th:only-of-type {\n",
       "        vertical-align: middle;\n",
       "    }\n",
       "\n",
       "    .dataframe tbody tr th {\n",
       "        vertical-align: top;\n",
       "    }\n",
       "\n",
       "    .dataframe thead th {\n",
       "        text-align: right;\n",
       "    }\n",
       "</style>\n",
       "<table border=\"1\" class=\"dataframe\">\n",
       "  <thead>\n",
       "    <tr style=\"text-align: right;\">\n",
       "      <th></th>\n",
       "      <th>ID</th>\n",
       "      <th>MRI_ID</th>\n",
       "      <th>visit</th>\n",
       "      <th>delay</th>\n",
       "      <th>sex</th>\n",
       "      <th>hand</th>\n",
       "      <th>age</th>\n",
       "      <th>YOE</th>\n",
       "      <th>SES</th>\n",
       "      <th>MMSE</th>\n",
       "      <th>CDR</th>\n",
       "      <th>eTIV</th>\n",
       "      <th>nWBV</th>\n",
       "      <th>ASF</th>\n",
       "    </tr>\n",
       "  </thead>\n",
       "  <tbody>\n",
       "    <tr>\n",
       "      <th>0</th>\n",
       "      <td>1</td>\n",
       "      <td>0001_MR1</td>\n",
       "      <td>1</td>\n",
       "      <td>0</td>\n",
       "      <td>M</td>\n",
       "      <td>R</td>\n",
       "      <td>87</td>\n",
       "      <td>14</td>\n",
       "      <td>2.0</td>\n",
       "      <td>27.0</td>\n",
       "      <td>none</td>\n",
       "      <td>1987.0</td>\n",
       "      <td>0.696</td>\n",
       "      <td>0.883</td>\n",
       "    </tr>\n",
       "    <tr>\n",
       "      <th>1</th>\n",
       "      <td>2</td>\n",
       "      <td>0002_MR1</td>\n",
       "      <td>1</td>\n",
       "      <td>0</td>\n",
       "      <td>M</td>\n",
       "      <td>R</td>\n",
       "      <td>75</td>\n",
       "      <td>12</td>\n",
       "      <td>NaN</td>\n",
       "      <td>23.0</td>\n",
       "      <td>very mild</td>\n",
       "      <td>1678.0</td>\n",
       "      <td>0.736</td>\n",
       "      <td>1.046</td>\n",
       "    </tr>\n",
       "    <tr>\n",
       "      <th>2</th>\n",
       "      <td>4</td>\n",
       "      <td>0004_MR1</td>\n",
       "      <td>1</td>\n",
       "      <td>0</td>\n",
       "      <td>F</td>\n",
       "      <td>R</td>\n",
       "      <td>88</td>\n",
       "      <td>18</td>\n",
       "      <td>3.0</td>\n",
       "      <td>28.0</td>\n",
       "      <td>none</td>\n",
       "      <td>1215.0</td>\n",
       "      <td>0.710</td>\n",
       "      <td>1.444</td>\n",
       "    </tr>\n",
       "    <tr>\n",
       "      <th>3</th>\n",
       "      <td>5</td>\n",
       "      <td>0005_MR1</td>\n",
       "      <td>1</td>\n",
       "      <td>0</td>\n",
       "      <td>M</td>\n",
       "      <td>R</td>\n",
       "      <td>80</td>\n",
       "      <td>12</td>\n",
       "      <td>4.0</td>\n",
       "      <td>28.0</td>\n",
       "      <td>none</td>\n",
       "      <td>1689.0</td>\n",
       "      <td>0.712</td>\n",
       "      <td>1.039</td>\n",
       "    </tr>\n",
       "    <tr>\n",
       "      <th>4</th>\n",
       "      <td>7</td>\n",
       "      <td>0007_MR1</td>\n",
       "      <td>1</td>\n",
       "      <td>0</td>\n",
       "      <td>M</td>\n",
       "      <td>R</td>\n",
       "      <td>71</td>\n",
       "      <td>16</td>\n",
       "      <td>NaN</td>\n",
       "      <td>28.0</td>\n",
       "      <td>very mild</td>\n",
       "      <td>1357.0</td>\n",
       "      <td>0.748</td>\n",
       "      <td>1.293</td>\n",
       "    </tr>\n",
       "    <tr>\n",
       "      <th>...</th>\n",
       "      <td>...</td>\n",
       "      <td>...</td>\n",
       "      <td>...</td>\n",
       "      <td>...</td>\n",
       "      <td>...</td>\n",
       "      <td>...</td>\n",
       "      <td>...</td>\n",
       "      <td>...</td>\n",
       "      <td>...</td>\n",
       "      <td>...</td>\n",
       "      <td>...</td>\n",
       "      <td>...</td>\n",
       "      <td>...</td>\n",
       "      <td>...</td>\n",
       "    </tr>\n",
       "    <tr>\n",
       "      <th>1</th>\n",
       "      <td>36</td>\n",
       "      <td>0036_MR5</td>\n",
       "      <td>5</td>\n",
       "      <td>2369</td>\n",
       "      <td>F</td>\n",
       "      <td>R</td>\n",
       "      <td>75</td>\n",
       "      <td>13</td>\n",
       "      <td>4.0</td>\n",
       "      <td>29.0</td>\n",
       "      <td>none</td>\n",
       "      <td>1349.0</td>\n",
       "      <td>0.778</td>\n",
       "      <td>1.301</td>\n",
       "    </tr>\n",
       "    <tr>\n",
       "      <th>2</th>\n",
       "      <td>48</td>\n",
       "      <td>0048_MR5</td>\n",
       "      <td>5</td>\n",
       "      <td>1233</td>\n",
       "      <td>M</td>\n",
       "      <td>R</td>\n",
       "      <td>69</td>\n",
       "      <td>16</td>\n",
       "      <td>1.0</td>\n",
       "      <td>4.0</td>\n",
       "      <td>mild</td>\n",
       "      <td>1701.0</td>\n",
       "      <td>0.676</td>\n",
       "      <td>1.032</td>\n",
       "    </tr>\n",
       "    <tr>\n",
       "      <th>3</th>\n",
       "      <td>70</td>\n",
       "      <td>0070_MR5</td>\n",
       "      <td>5</td>\n",
       "      <td>2386</td>\n",
       "      <td>M</td>\n",
       "      <td>R</td>\n",
       "      <td>86</td>\n",
       "      <td>17</td>\n",
       "      <td>1.0</td>\n",
       "      <td>30.0</td>\n",
       "      <td>none</td>\n",
       "      <td>1720.0</td>\n",
       "      <td>0.705</td>\n",
       "      <td>1.02</td>\n",
       "    </tr>\n",
       "    <tr>\n",
       "      <th>4</th>\n",
       "      <td>73</td>\n",
       "      <td>0073_MR5</td>\n",
       "      <td>5</td>\n",
       "      <td>2517</td>\n",
       "      <td>F</td>\n",
       "      <td>R</td>\n",
       "      <td>77</td>\n",
       "      <td>14</td>\n",
       "      <td>3.0</td>\n",
       "      <td>29.0</td>\n",
       "      <td>none</td>\n",
       "      <td>1504.0</td>\n",
       "      <td>0.769</td>\n",
       "      <td>1.167</td>\n",
       "    </tr>\n",
       "    <tr>\n",
       "      <th>5</th>\n",
       "      <td>127</td>\n",
       "      <td>0127_MR5</td>\n",
       "      <td>5</td>\n",
       "      <td>2639</td>\n",
       "      <td>M</td>\n",
       "      <td>R</td>\n",
       "      <td>86</td>\n",
       "      <td>18</td>\n",
       "      <td>1.0</td>\n",
       "      <td>30.0</td>\n",
       "      <td>very mild</td>\n",
       "      <td>1670.0</td>\n",
       "      <td>0.669</td>\n",
       "      <td>1.051</td>\n",
       "    </tr>\n",
       "  </tbody>\n",
       "</table>\n",
       "<p>373 rows × 14 columns</p>\n",
       "</div>"
      ],
      "text/plain": [
       "     ID    MRI_ID  visit  delay sex hand  age  YOE  SES  MMSE        CDR  \\\n",
       "0     1  0001_MR1      1      0   M    R   87   14  2.0  27.0       none   \n",
       "1     2  0002_MR1      1      0   M    R   75   12  NaN  23.0  very mild   \n",
       "2     4  0004_MR1      1      0   F    R   88   18  3.0  28.0       none   \n",
       "3     5  0005_MR1      1      0   M    R   80   12  4.0  28.0       none   \n",
       "4     7  0007_MR1      1      0   M    R   71   16  NaN  28.0  very mild   \n",
       "..  ...       ...    ...    ...  ..  ...  ...  ...  ...   ...        ...   \n",
       "1    36  0036_MR5      5   2369   F    R   75   13  4.0  29.0       none   \n",
       "2    48  0048_MR5      5   1233   M    R   69   16  1.0   4.0       mild   \n",
       "3    70  0070_MR5      5   2386   M    R   86   17  1.0  30.0       none   \n",
       "4    73  0073_MR5      5   2517   F    R   77   14  3.0  29.0       none   \n",
       "5   127  0127_MR5      5   2639   M    R   86   18  1.0  30.0  very mild   \n",
       "\n",
       "      eTIV   nWBV    ASF  \n",
       "0   1987.0  0.696  0.883  \n",
       "1   1678.0  0.736  1.046  \n",
       "2   1215.0  0.710  1.444  \n",
       "3   1689.0  0.712  1.039  \n",
       "4   1357.0  0.748  1.293  \n",
       "..     ...    ...    ...  \n",
       "1   1349.0  0.778  1.301  \n",
       "2   1701.0  0.676  1.032  \n",
       "3   1720.0  0.705   1.02  \n",
       "4   1504.0  0.769  1.167  \n",
       "5   1670.0  0.669  1.051  \n",
       "\n",
       "[373 rows x 14 columns]"
      ]
     },
     "execution_count": 5,
     "metadata": {},
     "output_type": "execute_result"
    }
   ],
   "source": [
    "data"
   ]
  },
  {
   "cell_type": "code",
   "execution_count": 6,
   "id": "488f8811",
   "metadata": {},
   "outputs": [
    {
     "data": {
      "text/plain": [
       "ID         0\n",
       "MRI_ID     0\n",
       "visit      0\n",
       "delay      0\n",
       "sex        0\n",
       "hand       0\n",
       "age        0\n",
       "YOE        0\n",
       "SES       19\n",
       "MMSE       2\n",
       "CDR        0\n",
       "eTIV       2\n",
       "nWBV       0\n",
       "ASF        2\n",
       "dtype: int64"
      ]
     },
     "execution_count": 6,
     "metadata": {},
     "output_type": "execute_result"
    }
   ],
   "source": [
    "data.isna().sum()"
   ]
  },
  {
   "cell_type": "code",
   "execution_count": 7,
   "id": "4e52460c",
   "metadata": {},
   "outputs": [
    {
     "data": {
      "text/plain": [
       "array([  1,   2,   4,   5,   7,   8,   9,  10,  12,  13,  14,  16,  17,\n",
       "        18,  20,  21,  22,  23,  26,  27,  28,  29,  30,  31,  32,  34,\n",
       "        35,  36,  37,  39,  40,  41,  42,  43,  44,  45,  46,  47,  48,\n",
       "        49,  50,  51,  52,  53,  54,  55,  56,  57,  58,  60,  61,  62,\n",
       "        63,  64,  66,  67,  68,  69,  70,  71,  73,  75,  76,  77,  78,\n",
       "        79,  80,  81,  85,  86,  87,  88,  89,  90,  91,  92,  94,  95,\n",
       "        96,  97,  98,  99, 100, 101, 102, 103, 104, 105, 106, 108, 109,\n",
       "       111, 112, 113, 114, 116, 117, 118, 119, 120, 121, 122, 124, 126,\n",
       "       127, 128, 129, 131, 133, 134, 135, 137, 138, 139, 140, 141, 142,\n",
       "       143, 144, 145, 146, 147, 149, 150, 152, 154, 156, 157, 158, 159,\n",
       "       160, 161, 162, 164, 165, 169, 171, 172, 174, 175, 176, 177, 178,\n",
       "       179, 181, 182, 183, 184, 185, 186], dtype=int64)"
      ]
     },
     "execution_count": 7,
     "metadata": {},
     "output_type": "execute_result"
    }
   ],
   "source": [
    "data.ID.unique()"
   ]
  },
  {
   "cell_type": "code",
   "execution_count": 8,
   "id": "2d91dcca",
   "metadata": {},
   "outputs": [
    {
     "name": "stdout",
     "output_type": "stream",
     "text": [
      "<class 'pandas.core.frame.DataFrame'>\n",
      "Int64Index: 373 entries, 0 to 5\n",
      "Data columns (total 14 columns):\n",
      " #   Column  Non-Null Count  Dtype  \n",
      "---  ------  --------------  -----  \n",
      " 0   ID      373 non-null    int64  \n",
      " 1   MRI_ID  373 non-null    object \n",
      " 2   visit   373 non-null    int64  \n",
      " 3   delay   373 non-null    int64  \n",
      " 4   sex     373 non-null    object \n",
      " 5   hand    373 non-null    object \n",
      " 6   age     373 non-null    int64  \n",
      " 7   YOE     373 non-null    int64  \n",
      " 8   SES     354 non-null    float64\n",
      " 9   MMSE    371 non-null    float64\n",
      " 10  CDR     373 non-null    object \n",
      " 11  eTIV    371 non-null    float64\n",
      " 12  nWBV    373 non-null    float64\n",
      " 13  ASF     371 non-null    object \n",
      "dtypes: float64(4), int64(5), object(5)\n",
      "memory usage: 43.7+ KB\n"
     ]
    }
   ],
   "source": [
    "data.info()"
   ]
  },
  {
   "cell_type": "code",
   "execution_count": 9,
   "id": "041e7a26",
   "metadata": {},
   "outputs": [
    {
     "data": {
      "text/plain": [
       "array([14, 12, 18, 16,  8, 20, 13,  6, 17, 15, 23, 11], dtype=int64)"
      ]
     },
     "execution_count": 9,
     "metadata": {},
     "output_type": "execute_result"
    }
   ],
   "source": [
    "data.YOE.unique()"
   ]
  },
  {
   "cell_type": "code",
   "execution_count": 10,
   "id": "347c0aab",
   "metadata": {},
   "outputs": [
    {
     "data": {
      "text/plain": [
       "array([ 2., nan,  3.,  4.,  1.,  5.])"
      ]
     },
     "execution_count": 10,
     "metadata": {},
     "output_type": "execute_result"
    }
   ],
   "source": [
    "data.SES.unique()"
   ]
  },
  {
   "cell_type": "code",
   "execution_count": 11,
   "id": "c37be9e3",
   "metadata": {},
   "outputs": [
    {
     "data": {
      "text/plain": [
       "array([27., 23., 28., 30., 29., 21., 25., 26., 22., 20., 19., 17., 24.,\n",
       "       16., 15., 18., nan,  7.,  4.])"
      ]
     },
     "execution_count": 11,
     "metadata": {},
     "output_type": "execute_result"
    }
   ],
   "source": [
    "data.MMSE.unique()"
   ]
  },
  {
   "cell_type": "code",
   "execution_count": 12,
   "id": "92b8954e",
   "metadata": {},
   "outputs": [
    {
     "data": {
      "text/plain": [
       "array(['none', 'very mild', 'very midl', 'mild', 'vry mild', 'very miId',\n",
       "       'midl', 'moderate'], dtype=object)"
      ]
     },
     "execution_count": 12,
     "metadata": {},
     "output_type": "execute_result"
    }
   ],
   "source": [
    "data.CDR.unique()"
   ]
  },
  {
   "cell_type": "code",
   "execution_count": 13,
   "id": "4556180d",
   "metadata": {},
   "outputs": [
    {
     "data": {
      "text/plain": [
       "array([1987., 1678., 1215., 1689., 1357., 1272., 1457., 1447., 1333.,\n",
       "       1230., 1602., 1651., 1783., 1406., 1587., 1911., 1313., 1247.,\n",
       "       1420., 1365., 1547., 1377., 1402., 1430., 1307., 1466., 1336.,\n",
       "       1359., 1477., 1174., 1310., 1289., 1640., 1453., 1317., 1476.,\n",
       "       1433., 1695., 1491., 1461., 1454., 1463., 1484., 1264., 1362.,\n",
       "       1599., 1315., 1416., 1654., 1641., 1462., 1957., 1440., 1428.,\n",
       "       1470., 1660., 1391., 1524., 1151., 1504., 1848., 1631., 1548.,\n",
       "       1271., 1383., 1544., 1465., 1432., 1511., 1513., 1769., 1154.,\n",
       "       1611., 1446., 1475., 1583., 1371., 1499., 1404., 1568., 1445.,\n",
       "       1604., 1750., 1525., 1536., 1316., 1425., 1842., 1508., 1486.,\n",
       "       1409., 1293., 1344., 1644., 1346., 1340., 1295., 1636., 1659.,\n",
       "       1123., 1337., 1277., 1380., 1715., 1704., 1298., 1732., 1351.,\n",
       "       1345., 1343., 1191., 1436., 1243., 1274., 1238., 1557., 1818.,\n",
       "       1514., 1713., 1426., 1832., 1891., 1379., 1796., 1444., 1509.,\n",
       "       1171., 1661., 1495., 1354., 1319., 2004., 1738., 1200., 1701.,\n",
       "       1257., 1480., 1482.,   nan, 1212., 1590., 1668., 1606., 1926.,\n",
       "       1250., 1360., 1562., 1390., 1392., 1311., 1450., 1329., 1487.,\n",
       "       1179., 1320., 1665., 1451., 1331., 1322., 1483., 1414., 1708.,\n",
       "       1505., 1474., 1500., 1275., 1456., 1569., 1308., 1408., 1664.,\n",
       "       1928., 1438., 1471., 1692., 1512., 1143., 1931., 1492., 1556.,\n",
       "       1273., 1381., 1542., 1503., 1494., 1534., 1506., 1449., 1785.,\n",
       "       1165., 1628., 1412., 1586., 1400., 1497., 1423., 1762., 1489.,\n",
       "       1744., 1520., 1339., 1309., 1407., 1806., 1529., 1401., 1517.,\n",
       "       1479., 1338., 1284., 1645., 1106., 1393., 1290., 1714., 1722.,\n",
       "       1287., 1729., 1334., 1335., 1194., 1559., 1256., 1281., 1236.,\n",
       "       1817., 1550., 1710., 1755., 1820., 1899., 1378., 1398., 1510.,\n",
       "       1169., 1693., 1327., 1698., 1699., 1323., 1225., 1814., 1597.,\n",
       "       1358., 1460., 1361., 1348., 1314., 1332., 1712., 1580., 1324.,\n",
       "       1681., 1667., 1464., 1455., 1707., 1507., 1662., 1478., 1546.,\n",
       "       1498., 1419., 1823., 1488., 1647., 1442., 1396., 1202., 1830.,\n",
       "       1836., 1370., 1803., 1159., 1688., 1372., 1353., 1485., 1724.,\n",
       "       1490., 1826., 1342., 1813., 1349., 1720., 1670.])"
      ]
     },
     "execution_count": 13,
     "metadata": {},
     "output_type": "execute_result"
    }
   ],
   "source": [
    "data.eTIV.unique()"
   ]
  },
  {
   "cell_type": "code",
   "execution_count": 14,
   "id": "12810138",
   "metadata": {},
   "outputs": [
    {
     "data": {
      "text/plain": [
       "array([0.696, 0.736, 0.71 , 0.712, 0.748, 0.698, 0.806, 0.769, 0.715,\n",
       "       0.697, 0.66 , 0.752, 0.693, 0.719, 0.805, 0.662, 0.713, 0.783,\n",
       "       0.737, 0.734, 0.822, 0.718, 0.679, 0.703, 0.738, 0.789, 0.729,\n",
       "       0.742, 0.727, 0.771, 0.766, 0.777, 0.685, 0.75 , 0.723, 0.711,\n",
       "       0.794, 0.724, 0.701, 0.76 , 0.837, 0.756, 0.755, 0.707, 0.747,\n",
       "       0.695, 0.691, 0.7  , 0.687, 0.728, 0.705, 0.787, 0.743, 0.725,\n",
       "       0.674, 0.759, 0.683, 0.672, 0.692, 0.773, 0.739, 0.699, 0.78 ,\n",
       "       0.762, 0.689, 0.722, 0.781, 0.67 , 0.732, 0.758, 0.754, 0.726,\n",
       "       0.749, 0.666, 0.731, 0.68 , 0.786, 0.812, 0.819, 0.746, 0.716,\n",
       "       0.799, 0.72 , 0.785, 0.757, 0.678, 0.709, 0.778, 0.733, 0.801,\n",
       "       0.681, 0.791, 0.646, 0.677, 0.796, 0.652, 0.782, 0.717, 0.735,\n",
       "       0.817, 0.676, 0.768, 0.744, 0.827, 0.706, 0.721, 0.694, 0.69 ,\n",
       "       0.741, 0.686, 0.751, 0.792, 0.661, 0.772, 0.774, 0.708, 0.77 ,\n",
       "       0.788, 0.663, 0.761, 0.767, 0.795, 0.81 , 0.714, 0.657, 0.764,\n",
       "       0.704, 0.665, 0.74 , 0.775, 0.688, 0.682, 0.684, 0.644, 0.675,\n",
       "       0.669])"
      ]
     },
     "execution_count": 14,
     "metadata": {},
     "output_type": "execute_result"
    }
   ],
   "source": [
    "data.nWBV.unique()"
   ]
  },
  {
   "cell_type": "code",
   "execution_count": 15,
   "id": "f6712535",
   "metadata": {},
   "outputs": [
    {
     "data": {
      "text/plain": [
       "array(['0.883', '1.046', '1.444', '1.039', '1.293', '1.38', '1.205',\n",
       "       '1.213', '1.316', '1.427', '1.096', '1.063', '0.985', '1.248',\n",
       "       '1.106', '0.919', '1.337', '1.407', '1.236', '1.286', '1.134',\n",
       "       '1.275', '1.252', '1.227', '1.342', '1.197', '1.313', '1.291',\n",
       "       '1.188', '1.495', '1.339', '1.362', '1.07', '1.208', '1.317',\n",
       "       '1.332', '1.189', '1.225', '1.036', '1.177', '1.202', '1.207',\n",
       "       '1.199', '1.183', '1.388', '1.289', '1.098', '1.335', '1.239',\n",
       "       '1.061', '1.069', '1.228', '1.2', '0.897', '1.219', '1.229',\n",
       "       '1.194', '1.057', '1.262', '1.151', '1.525', '1.167', '0.95',\n",
       "       '1.076', '1.381', '1.269', '1.136', '1.198', '1.162', '1.16',\n",
       "       '0.992', '1.521', '1.089', '1.214', '1.19', '1.108', '1.28',\n",
       "       '1.171', '1.25', '1.119', '0.984', '1.094', '1.003', '1.142',\n",
       "       '1.333', '1.232', '0.953', '1.164', '1.181', '1.246', '1.357',\n",
       "       '1.306', '1.067', '1.304', '1.309', '1.355', '1.073', '1.058',\n",
       "       '1.563', '1.312', '1.374', '1.272', '1.023', '1.03', '1.352',\n",
       "       '1.013', '1.299', '1.305', '1.474', '1.222', '1.412', '1.377',\n",
       "       '1,38', '1.418', '1.127', '0.965', '1.159', '1.024', '1.231',\n",
       "       '0.958', '0.928', '1.273', '0.977', '1.216', '1.163', '1.499',\n",
       "       '1.056', '1.174', '1.296', '103', '1.331', 0.876, 1.01, 1.462,\n",
       "       1.032, 1.396, 1.186, 1.184, 1.326, 1.448, 1.104, 1.052, 1.093,\n",
       "       0.911, 1.333, 1.405, 1.214, 1.291, 1.124, 1.263, 1.261, 1.215,\n",
       "       1.339, 1.21, 1.32, 1.18, 1.488, 1.329, 1.356, 1.054, 1.318, 1.327,\n",
       "       1.183, 1.242, 1.028, 1.166, 1.19, 1.17, 1.376, 1.285, 1.205, 1.118,\n",
       "       1.341, 1.247, 1.057, 1.055, 1.208, 1.203, 0.91, 1.22, 1.193, 1.037,\n",
       "       1.252, 1.161, 1.535, 1.143, 0.909, 1.07, 1.176, 1.128, 1.378, 1.27,\n",
       "       1.138, 1.168, 1.175, 1.144, 1.212, 0.983, 1.506, 1.078, 1.243,\n",
       "       1.107, 1.254, 1.172, 1.233, 1.123, 0.996, 1.179, 1.006, 1.155,\n",
       "       1.311, 0.972, 1.147, 1.253, 1.157, 1.355, 1.187, 1.312, 1.061,\n",
       "       1.297, 1.222, 1.367, 1.067, 1.063, 1.587, 1.305, 1.26, 1.361,\n",
       "       1.262, 1.024, 1.019, 1.364, 1.015, 1.316, 1.314, 1.293, 1.469,\n",
       "       1.125, 1.398, 1.37, 1.419, 1.119, 0.966, 1.132, 1.026, 1.0, 1.241,\n",
       "       0.964, 0.924, 1.274, 0.977, 1.255, 1.162, 1.174, 1.501, 1.165,\n",
       "       1.299, 1.323, 1.034, 1.033, 1.286, 1.433, 0.968, 1.099, 1.199,\n",
       "       1.202, 1.29, 1.302, 1.335, 1.317, 1.025, 1.111, 1.044, 1.053,\n",
       "       1.206, 1.164, nan, 1.056, 1.188, 1.135, 1.226, 1.133, 0.967, 1.273,\n",
       "       1.171, 1.236, 0.963, 1.306, 1.066, 1.217, 1.257, 1.313, 1.461,\n",
       "       0.959, 0.956, 1.281, 0.973, 1.246, 1.515, 1.04, 1.279, 1.234,\n",
       "       1.181, 1.018, 1.178, 0.961, 1.307, 1.301, 1.02, 1.167, 1.051],\n",
       "      dtype=object)"
      ]
     },
     "execution_count": 15,
     "metadata": {},
     "output_type": "execute_result"
    }
   ],
   "source": [
    "data.ASF.unique()"
   ]
  },
  {
   "cell_type": "code",
   "execution_count": 17,
   "id": "477de721",
   "metadata": {},
   "outputs": [
    {
     "name": "stderr",
     "output_type": "stream",
     "text": [
      "C:\\ProgramData\\Anaconda3\\lib\\site-packages\\seaborn\\categorical.py:1296: UserWarning: 11.1% of the points cannot be placed; you may want to decrease the size of the markers or use stripplot.\n",
      "  warnings.warn(msg, UserWarning)\n",
      "C:\\ProgramData\\Anaconda3\\lib\\site-packages\\seaborn\\categorical.py:1296: UserWarning: 31.9% of the points cannot be placed; you may want to decrease the size of the markers or use stripplot.\n",
      "  warnings.warn(msg, UserWarning)\n",
      "C:\\ProgramData\\Anaconda3\\lib\\site-packages\\seaborn\\categorical.py:1296: UserWarning: 26.3% of the points cannot be placed; you may want to decrease the size of the markers or use stripplot.\n",
      "  warnings.warn(msg, UserWarning)\n"
     ]
    },
    {
     "data": {
      "image/png": "[encoded data removed]",
      "text/plain": [
       "<Figure size 360x360 with 1 Axes>"
      ]
     },
     "metadata": {},
     "output_type": "display_data"
    }
   ],
   "source": [
    "grid = seaborn.catplot(x = \"MMSE\", y = \"age\", kind = \"swarm\", data=data)\n",
    "\n",
    "grid.savefig(\"../results/mmseage.png\", dpi = 150, bbox_inches = \"tight\")"
   ]
  },
  {
   "cell_type": "code",
   "execution_count": null,
   "id": "cf7a47e0",
   "metadata": {},
   "outputs": [],
   "source": []
  }
 ],
 "metadata": {
  "kernelspec": {
   "display_name": "Python 3 (ipykernel)",
   "language": "python",
   "name": "python3"
  },
  "language_info": {
   "codemirror_mode": {
    "name": "ipython",
    "version": 3
   },
   "file_extension": ".py",
   "mimetype": "text/x-python",
   "name": "python",
   "nbconvert_exporter": "python",
   "pygments_lexer": "ipython3",
   "version": "3.9.12"
  }
 },
 "nbformat": 4,
 "nbformat_minor": 5
}
